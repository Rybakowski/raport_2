{
 "cells": [
  {
   "cell_type": "code",
   "execution_count": 3,
   "metadata": {},
   "outputs": [
    {
     "data": {
      "text/plain": [
       "0.1"
      ]
     },
     "metadata": {},
     "output_type": "display_data"
    }
   ],
   "source": [
    "using Plots, LinearAlgebra, Statistics, Distributions\n",
    "\n",
    "#Liczba agentów rodzaju I\n",
    "Nᴵ = 5000\n",
    "#Liczba agentów rodzaju II\n",
    "Nᴵᴵ = 25000\n",
    "#Liczba agentów rodzaju III\n",
    "Nᴵᴵᴵ = 50000  #SUMA 80000 (8*10^4)\n",
    "\n",
    "#Ceny\n",
    "P_górna⁽¹⁾= 35000\n",
    "P_górna⁽²⁾= 25000\n",
    "P_dolna⁽¹⁾= 23000\n",
    "P_górna⁽³⁾= 19000\n",
    "P_dolna⁽²⁾= 18000\n",
    "P_dolna⁽³⁾= 8000;\n",
    "T = 12*20 #12 miesięcy - rok, 20 lat\n",
    "CZAS = 15*12 #Piętnastoletnie ,,pożyczki\" - zablokowanie czasu do szukania nowego mieszkania (można szukać tylko gdy CZASₙ = 0);\n",
    "\n",
    "#Początkowe rozmieszczenie - przestrzenie trzech dzielnic: ciągłe\n",
    "α₁ = 1 #Współczynnik kształtu - im większy tym ,,chudszy\" ogon rozkładu PAreta\n",
    "θ₁ = 0.1 #Skala - dla rozkładów Pareta x > θ (śmieszny błąd Julii - to co jest przed nawiasem to ,,vartheta\", ale w komentarzach pojawia się również gdy wpiszemy \\theta+TAB)\n",
    "α₂ = 2\n",
    "θ₂ = 0.1\n",
    "α₃ = 5\n",
    "θ₃ = 0.1\n"
   ]
  },
  {
   "cell_type": "code",
   "execution_count": 4,
   "metadata": {},
   "outputs": [],
   "source": [
    "Pocz_rozk_I = Pareto(α₁, θ₁)\n",
    "Pocz_rozk_II = Pareto(α₂, θ₂)\n",
    "Pocz_rozk_III = Pareto(α₃, θ₃)\n",
    "AGENCI = zeros(Nᴵ+Nᴵᴵ+Nᴵᴵᴵ,5,T); #[INDEKS AGENTA, [DZIELNICA,DOCHÓD,PIERWSZA WSPÓŁRZĘDNA,DRUGA WSPÓŁRZĘDNA,CZAS TRWANIA DŁUGU]]\n"
   ]
  },
  {
   "cell_type": "code",
   "execution_count": 11,
   "metadata": {},
   "outputs": [],
   "source": [
    "## Parametry początkowe\n",
    "\n",
    "# 1 kolumna to DZIELNICA\n",
    "# 2 kolumna to DOCHÓD\n",
    "# 3 kolumna to MAJĄTEK\n",
    "# 4 kolumna to Lokalizacja w dzielnicy\n",
    "# 5 kolumna to ILOŚĆ OKRESÓW DO SPŁATY\n",
    "\n",
    "for n in 1:Nᴵ\n",
    "    AGENCI[n,2,1] = rand(Pocz_rozk_I)\n",
    "    AGENCI[n,1,1] = 1\n",
    "    AGENCI[n,3,1] = AGENCI[n,2,1] \n",
    "    AGENCI[n,4,1] = rand(Uniform(0, 1))\n",
    "end\n",
    "\n",
    "for n in Nᴵ+1:Nᴵᴵ\n",
    "    AGENCI[n,2,1] = rand(Pocz_rozk_II)\n",
    "    AGENCI[n,1,1] = 2\n",
    "    AGENCI[n,3,1] = AGENCI[n,2,1] \n",
    "    AGENCI[n,4,1] = rand(Uniform(0, 1))\n",
    "end\n",
    "\n",
    "for n in Nᴵᴵ+1:Nᴵᴵᴵ\n",
    "    AGENCI[n,2,1] = rand(Pocz_rozk_III)\n",
    "    AGENCI[n,1,1] = 3\n",
    "    AGENCI[n,3,1] = AGENCI[n,2,1] \n",
    "    AGENCI[n,4,1] = rand(Uniform(0, 1))\n",
    "end\n",
    "\n",
    "\n",
    "#ILU AGENTÓW MA POCZĄTKOWO NIEZEROWY DŁUG (SPŁATY POZA MODELEM)?\n",
    "Nᵖᵒᶜᶻᵈᵍ = 15000\n",
    "X = rand(1:Nᴵ + Nᴵᴵ + Nᴵᴵᴵ,Nᵖᵒᶜᶻᵈᵍ)\n",
    "for m in 1:Nᵖᵒᶜᶻᵈᵍ\n",
    "    AGENCI[X[m],5,1] =  rand(1:CZAS) #LOSOWA ZAPADALNOŚĆ DŁUGU - TUTAJ JEST TO LICZBA MIESIĘCY OD ZACIĄGNIĘCIA\n",
    "    if AGENCI[X[m],5,1] == CZAS\n",
    "        AGENCI[X[m],5,2] = 0\n",
    "    else\n",
    "        AGENCI[X[m],5,2] = AGENCI[X[m],5,1] + 1\n",
    "    end\n",
    "end"
   ]
  },
  {
   "cell_type": "code",
   "execution_count": 19,
   "metadata": {},
   "outputs": [
    {
     "name": "stdout",
     "output_type": "stream",
     "text": [
      " 24.905019 seconds (313.96 M allocations: 5.814 GiB, 2.80% gc time)\n"
     ]
    },
    {
     "data": {
      "text/plain": [
       "Array{Float64, 3}"
      ]
     },
     "metadata": {},
     "output_type": "display_data"
    }
   ],
   "source": [
    "\n",
    "@time begin\n",
    "    for t in 2:T-1\n",
    "        #WZROST/WAHANIA CEN?\n",
    "        for n in 1:Nᴵ + Nᴵᴵ + Nᴵᴵᴵ\n",
    "            if AGENCI[n,1,t] == 3\n",
    "\n",
    "                AGENCI[n,2,t] = AGENCI[n,2,t-1] + 0.1*rand(Pocz_rozk_III)\n",
    "                if AGENCI[n,2,t] > AGENCI[n,2,t-1] && AGENCI[n,5,t] == 0\n",
    "                    #print(\"tu1\")\n",
    "                   #Szukamy lepszego miejsca\n",
    "                    #próba = rand(Uniform(AGENCI[n,3,t-1],AGENCI[n,2,t]))\n",
    "                    if AGENCI[n,3,t] < P_dolna⁽²⁾ \n",
    "                        #print(\"tu2\")\n",
    "                        próba = rand(truncated(Pocz_rozk_III; lower=P_dolna⁽³⁾, upper=P_górna⁽³⁾))\n",
    "                        AGENCI[n,1,t+1] = 3\n",
    "                        if próba > AGENCI[n,3,t] && AGENCI[n,2,t] > próba\n",
    "                            AGENCI[n,3,t+1] = próba\n",
    "                            AGENCI[n,4,t+1] = rand(Uniform(0, 1))\n",
    "                            AGENCI[n,5,t+1] = 1\n",
    "                        else\n",
    "                            AGENCI[n,3,t+1] = AGENCI[n,3,t]\n",
    "                            AGENCI[n,4,t+1] = AGENCI[n,4,t]\n",
    "                            AGENCI[n,5,t+1] = 0\n",
    "                        end\n",
    "                    else\n",
    "                        #print(\"tu3\")\n",
    "                        próba = rand(truncated(Pocz_rozk_III; lower=P_dolna⁽²⁾, upper=P_górna⁽³⁾))\n",
    "                        if próba > AGENCI[n,3,t] && AGENCI[n,2,t] > próba\n",
    "                            AGENCI[n,1,t+1] = 2\n",
    "                            AGENCI[n,3,t+1] = próba\n",
    "                            AGENCI[n,4,t+1] = rand(Uniform(0, 1))\n",
    "                            AGENCI[n,5,t+1] = 1\n",
    "                        else\n",
    "                            AGENCI[n,1,t+1] == 3\n",
    "                            AGENCI[n,3,t+1] = AGENCI[n,3,t]\n",
    "                            AGENCI[n,4,t+1] = AGENCI[n,4,t]\n",
    "                            AGENCI[n,5,t+1] = 0\n",
    "                        end\n",
    "                    end\n",
    "                else\n",
    "                    #print(\"tu4\")\n",
    "                    AGENCI[n,1,t+1] = 3\n",
    "                    AGENCI[n,3,t+1] = AGENCI[n,3,t]\n",
    "                    AGENCI[n,4,t+1] = AGENCI[n,4,t]\n",
    "                    if AGENCI[n,5,t] == 0 || AGENCI[n,5,t] == CZAS\n",
    "                        AGENCI[n,5,t+1] = 0\n",
    "                    else\n",
    "                        AGENCI[n,5,t+1] = AGENCI[n,5,t] + 1\n",
    "                    end\n",
    "                end\n",
    "            elseif AGENCI[n,1,t] == 2\n",
    "\n",
    "                AGENCI[n,2,t] = AGENCI[n,2,t-1] + 0.1*rand(Pocz_rozk_II)\n",
    "                if AGENCI[n,2,t] > AGENCI[n,2,t-1]\n",
    "                   #Szukamy lepszego miejsca\n",
    "                    #próba = rand(Uniform(AGENCI[n,3,t-1],AGENCI[n,2,t]))\n",
    "                    if AGENCI[n,3,t] < P_dolna⁽²⁾\n",
    "                        #print(\"tu5\")\n",
    "                        próba = rand(truncated(Pocz_rozk_II; lower=P_dolna⁽²⁾, upper=P_górna⁽²⁾))\n",
    "                        AGENCI[n,1,t+1] = 2\n",
    "                        if próba > AGENCI[n,3,t] && AGENCI[n,2,t] > próba\n",
    "                            AGENCI[n,3,t+1] = próba\n",
    "                            AGENCI[n,4,t+1] = rand(Uniform(0, 1))\n",
    "                            AGENCI[n,5,t+1] = 1\n",
    "                        else\n",
    "                            AGENCI[n,3,t+1] = AGENCI[n,3,t]\n",
    "                            AGENCI[n,4,t+1] = AGENCI[n,4,t]\n",
    "                            AGENCI[n,5,t+1] = 0\n",
    "                        end\n",
    "                    else\n",
    "                        #print(\"tu6\")\n",
    "                        próba = rand(truncated(Pocz_rozk_II; lower=P_dolna⁽¹⁾, upper=P_górna⁽²⁾))\n",
    "                         if próba > AGENCI[n,3,t] && AGENCI[n,2,t] > próba\n",
    "                            AGENCI[n,1,t+1] = 1\n",
    "                            AGENCI[n,3,t+1] = próba\n",
    "                            AGENCI[n,4,t+1] = rand(Uniform(0, 1))\n",
    "                            AGENCI[n,5,t+1] = 1\n",
    "                        else\n",
    "                            AGENCI[n,1,t+1] = 2\n",
    "                            AGENCI[n,3,t+1] = AGENCI[n,3,t]\n",
    "                            AGENCI[n,4,t+1] = AGENCI[n,4,t]\n",
    "                            AGENCI[n,5,t+1] = 0\n",
    "                        end\n",
    "                    end\n",
    "                else\n",
    "                    #print(\"tu7\")\n",
    "                    AGENCI[n,1,t+1] = 3\n",
    "                    AGENCI[n,3,t+1] = AGENCI[n,3,t]\n",
    "                    AGENCI[n,4,t+1] = AGENCI[n,4,t]\n",
    "                    if AGENCI[n,5,t] == 0 || AGENCI[n,5,t] == CZAS\n",
    "                        AGENCI[n,5,t+1] = 0\n",
    "                    else\n",
    "                        AGENCI[n,5,t+1] = AGENCI[n,5,t] + 1\n",
    "                    end\n",
    "                end\n",
    "            else\n",
    "\n",
    "                AGENCI[n,2,t] = AGENCI[n,2,t] + 0.1*rand(Pocz_rozk_I)\n",
    "                if AGENCI[n,2,t] > AGENCI[n,2,t-1]\n",
    "                    #print(\"tu8\")\n",
    "                   #Szukamy lepszego miejsca\n",
    "                    #próba = rand(Uniform(AGENCI[n,3,t-1],AGENCI[n,2,t]))\n",
    "                    próba = rand(truncated(Pocz_rozk_I; lower=P_górna⁽²⁾, upper=P_górna⁽¹⁾))\n",
    "                    if AGENCI[n,3,t] < próba && AGENCI[n,2,t] > próba\n",
    "                        próba = rand(truncated(Pocz_rozk_I; lower=P_górna⁽²⁾, upper=P_górna⁽¹⁾))\n",
    "                        AGENCI[n,1,t+1] = 1\n",
    "                        AGENCI[n,3,t+1] = próba\n",
    "                        AGENCI[n,4,t+1] = rand(Uniform(0, 1))\n",
    "                        AGENCI[n,5,t+1] = 1\n",
    "                    else\n",
    "                        AGENCI[n,1,t+1] = 1\n",
    "                        AGENCI[n,3,t+1] = AGENCI[n,3,t]\n",
    "                        AGENCI[n,4,t+1] = AGENCI[n,4,t]\n",
    "                        AGENCI[n,5,t+1] = 0\n",
    "                    end\n",
    "                else\n",
    "                    #print(\"tu9\")\n",
    "                    AGENCI[n,1,t+1] = 1\n",
    "                    AGENCI[n,3,t+1] = AGENCI[n,3,t]\n",
    "                    AGENCI[n,4,t+1] = AGENCI[n,4,t]\n",
    "                    if AGENCI[n,5,t] == 0 || AGENCI[n,5,t] == CZAS\n",
    "                        AGENCI[n,5,t+1] = 0\n",
    "                    else\n",
    "                        AGENCI[n,5,t+1] = AGENCI[n,5,t] + 1\n",
    "                    end\n",
    "                end\n",
    "            end \n",
    "        end\n",
    "    end\n",
    "end\n",
    "\n"
   ]
  },
  {
   "cell_type": "code",
   "execution_count": 21,
   "metadata": {},
   "outputs": [
    {
     "data": {
      "text/plain": [
       "Array{Float64, 3}"
      ]
     },
     "metadata": {},
     "output_type": "display_data"
    }
   ],
   "source": [
    "typeof(AGENCI)"
   ]
  },
  {
   "cell_type": "code",
   "execution_count": 31,
   "metadata": {},
   "outputs": [
    {
     "data": {
      "text/plain": [
       "Dict{Float64, Int64} with 1 entry:\n",
       "  1.0 => 80000"
      ]
     },
     "metadata": {},
     "output_type": "display_data"
    }
   ],
   "source": [
    "# size(AGENCI)\n",
    "using StatsBase\n",
    "countmap(AGENCI[:,1,:240])"
   ]
  }
 ],
 "metadata": {
  "kernelspec": {
   "display_name": "Julia 1.10.2",
   "language": "julia",
   "name": "julia-1.10"
  },
  "language_info": {
   "file_extension": ".jl",
   "mimetype": "application/julia",
   "name": "julia",
   "version": "1.10.2"
  }
 },
 "nbformat": 4,
 "nbformat_minor": 2
}
