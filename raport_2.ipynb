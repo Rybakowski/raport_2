{
 "cells": [
  {
   "cell_type": "code",
   "execution_count": null,
   "metadata": {},
   "outputs": [],
   "source": [
    "\n",
    "using Plots, LinearAlgebra, Statistics, Distributions, StatsBase, DataFrames"
   ]
  },
  {
   "cell_type": "code",
   "execution_count": null,
   "metadata": {},
   "outputs": [],
   "source": [
    "N_param = 0.25\n",
    "bounds_param = 1/1000\n",
    "\n",
    "#Liczba agentów rodzaju I\n",
    "Nᴵ =Int(5000*N_param)\n",
    "#Liczba agentów rodzaju II\n",
    "Nᴵᴵ = Int(25000*N_param)\n",
    "#Liczba agentów rodzaju III\n",
    "Nᴵᴵᴵ = Int(50000*N_param)  #SUMA 80000 (8*10^4)\n",
    "#Ceny\n",
    "\n",
    "P_górna⁽¹⁾= Int(35000*bounds_param)\n",
    "P_górna⁽²⁾= Int(25000*bounds_param)\n",
    "P_dolna⁽¹⁾= Int(23000*bounds_param)\n",
    "P_górna⁽³⁾= Int(19000*bounds_param)\n",
    "P_dolna⁽²⁾= Int(18000*bounds_param)\n",
    "P_dolna⁽³⁾= Int(8000*bounds_param);\n",
    "\n",
    "T = 12*40 #12 miesięcy - rok, 20 lat\n",
    "CZAS = 12*15 #Piętnastoletnie ,,pożyczki\" - zablokowanie czasu do szukania nowego mieszkania (można szukać tylko gdy CZASₙ = 0);\n",
    "\n",
    "#Początkowe rozmieszczenie - przestrzenie trzech dzielnic: ciągłe\n",
    "α₁ = 1 #Współczynnik kształtu - im większy tym ,,chudszy\" ogon rozkładu PAreta\n",
    "θ₁ = 0.1 #Skala - dla rozkładów Pareta x > θ (śmieszny błąd Julii - to co jest przed nawiasem to ,,vartheta\", ale w komentarzach pojawia się również gdy wpiszemy \\theta+TAB)\n",
    "α₂ = 2\n",
    "θ₂ = 0.1\n",
    "α₃ = 5\n",
    "θ₃ = 0.1\n",
    "\n",
    "\n",
    "Pocz_rozk_I = Pareto(α₁, θ₁)\n",
    "Pocz_rozk_II = Pareto(α₂, θ₂)\n",
    "Pocz_rozk_III = Pareto(α₃, θ₃)\n",
    "\n",
    "AGENCI = zeros(Float64, Nᴵ + Nᴵᴵ + Nᴵᴵᴵ, 5, T)  # [INDEKS AGENTA, [DZIELNICA,DOCHÓD,PIERWSZA WSPÓŁRZĘDNA,DRUGA WSPÓŁRZĘDNA,CZAS TRWANIA DŁUGU],T]\n",
    "przyrost_param = 0.1\n",
    "\n",
    "for n in 1:Nᴵ\n",
    "     while AGENCI[n,2,1] <= 0 || AGENCI[n,2,1] > P_górna⁽¹⁾ || AGENCI[n,2,1] < P_dolna⁽¹⁾\n",
    "        AGENCI[n,2,1] = rand(Pocz_rozk_I) * (P_górna⁽¹⁾ - P_dolna⁽¹⁾) + P_dolna⁽¹⁾ #MOŻE TO BYĆ INNY MNOŻNIK, ALE SAMO P_górna MOŻE ZABRAĆ                                                                                                #WIĘCEJ CZASU\n",
    "    end\n",
    "    AGENCI[n,1,1:2] .= 1\n",
    "    AGENCI[n,3,1:2] .= AGENCI[n,2,1] \n",
    "    AGENCI[n,4,1:2] .= rand(Uniform(0, 1))\n",
    "end\n",
    " \n",
    "for n in Nᴵ+1:Nᴵ+Nᴵᴵ\n",
    "    while AGENCI[n,2,1] <= 0 || AGENCI[n,2,1] > P_górna⁽²⁾ || AGENCI[n,2,1] < P_dolna⁽²⁾\n",
    "        AGENCI[n,2,1] = rand(Pocz_rozk_II) * (P_górna⁽²⁾ - P_dolna⁽²⁾) + P_dolna⁽²⁾ \n",
    "    end\n",
    "    AGENCI[n,1,1:2] .= 2\n",
    "    AGENCI[n,3,1:2] .= AGENCI[n,2,1] \n",
    "    AGENCI[n,4,1:2] .= rand(Uniform(0, 1))\n",
    "end\n",
    " \n",
    "for n in Nᴵ+Nᴵᴵ+1:Nᴵ+Nᴵᴵ+Nᴵᴵᴵ\n",
    "    while AGENCI[n,2,1] <= 0 || AGENCI[n,2,1] > P_górna⁽³⁾ || AGENCI[n,2,1] < P_dolna⁽³⁾\n",
    "        AGENCI[n,2,1] = rand(Pocz_rozk_III) * (P_górna⁽³⁾ - P_dolna⁽³⁾) + P_dolna⁽³⁾ \n",
    "    end\n",
    "    AGENCI[n,1,1:2] .= 3\n",
    "    AGENCI[n,3,1:2] .= AGENCI[n,2,1] \n",
    "    AGENCI[n,4,1:2] .= rand(Uniform(0, 1))\n",
    "end\n",
    "\n",
    "#ILU AGENTÓW MA POCZĄTKOWO NIEZEROWY DŁUG (SPŁATY POZA MODELEM)?\n",
    "Nᵖᵒᶜᶻᵈᵍ = Nᴵ+Nᴵᴵ+Nᴵᴵᴵ\n",
    "X = rand(1:Nᴵ + Nᴵᴵ + Nᴵᴵᴵ,Nᵖᵒᶜᶻᵈᵍ)\n",
    "for m in 1:Nᵖᵒᶜᶻᵈᵍ\n",
    "    AGENCI[X[m],5,1] =  rand(1:CZAS) #LOSOWA ZAPADALNOŚĆ DŁUGU - TUTAJ JEST TO LICZBA MIESIĘCY OD ZACIĄGNIĘCIA\n",
    "    if AGENCI[X[m],5,1] == CZAS\n",
    "        AGENCI[X[m],5,2] = 0\n",
    "    else\n",
    "        AGENCI[X[m],5,2] = AGENCI[X[m],5,1] + 1\n",
    "    end\n",
    "end\n"
   ]
  },
  {
   "cell_type": "markdown",
   "metadata": {},
   "source": [
    "## Wizualizacja uciętych rozkładów Pareto"
   ]
  },
  {
   "cell_type": "code",
   "execution_count": null,
   "metadata": {},
   "outputs": [],
   "source": [
    "\n",
    "# Define the truncated Pareto distribution\n",
    "d1 = truncated(Pocz_rozk_I, P_dolna⁽¹⁾, P_górna⁽¹⁾)\n",
    "d2 = truncated(Pocz_rozk_I, P_dolna⁽²⁾, P_górna⁽²⁾)\n",
    "d3 = truncated(Pocz_rozk_I, P_dolna⁽³⁾, P_górna⁽³⁾)\n",
    "\n",
    "# Generate a range of x values\n",
    "x = range(0, stop=50, length=1000)\n",
    "\n",
    "# Compute the PDF at each x value\n",
    "y1 = pdf.(d1, x)\n",
    "y2 = pdf.(d2, x)\n",
    "y3 = pdf.(d3, x)\n",
    "\n",
    "przyrost_2 = pdf.(Pocz_rozk_II*P_górna⁽²⁾*0.025,x)\n",
    "\n",
    "# Create the plot\n",
    "plot(x, y1, \n",
    "    xlabel=\"x\", \n",
    "    ylabel=\"Probability Density Function (PDF)\", \n",
    "    title= \"Dystrybucja cen mieszkań w dzielnicach\", \n",
    "    legend=false,\n",
    "    linewidth=2)\n",
    "plot!(x, y2)\n",
    "plot!(x, y3) \n"
   ]
  },
  {
   "cell_type": "code",
   "execution_count": null,
   "metadata": {},
   "outputs": [],
   "source": [
    "histogram(AGENCI[:,5,2])\n",
    "# Ludziom dług znika!!!\n",
    "# AGENCI[1:20,5,2:3]"
   ]
  },
  {
   "cell_type": "markdown",
   "metadata": {},
   "source": [
    "AGENCI\n",
    "1. wymiar - nr agenta\n",
    "2. wymiar\n",
    "    * 1 kolumna - dzielnica\n",
    "    * 2 kolumna - majątek\n",
    "    * 3 kolumna - cena mieszkanie\n",
    "    * 4 kolumna - lokalizacja ????\n",
    "    * 5 kolumna - dlug\n",
    "3. wymiary - czas"
   ]
  },
  {
   "cell_type": "code",
   "execution_count": 5,
   "metadata": {},
   "outputs": [],
   "source": [
    "\n",
    "@time begin\n",
    "    for t in 2:T-1\n",
    "        #WZROST/WAHANIA CEN?\n",
    "        for n in 1:Nᴵ + Nᴵᴵ + Nᴵᴵᴵ\n",
    "            # if n != 1\n",
    "            #     continue\n",
    "            # end \n",
    "            # Czy jestem w dzielnicy 3?\n",
    "            if AGENCI[n,1,t] == 3\n",
    "                przyrost = rand(Pocz_rozk_III)*P_górna⁽³⁾*przyrost_param\n",
    "                while przyrost > P_górna⁽³⁾\n",
    "                    przyrost = rand(Pocz_rozk_III)*P_górna⁽³⁾*przyrost_param\n",
    "                end\n",
    "                #Zwiększanie majątku\n",
    "                AGENCI[n,2,t] = AGENCI[n,2,t-1] + przyrost\n",
    "                #Jeżeli mój majątek wzrósł i nie mam długu\n",
    "                if AGENCI[n,2,t] > AGENCI[n,2,t-1] && AGENCI[n,5,t] == 0\n",
    "                   #Szukamy lepszego miejsca\n",
    "                   #Jeżeli mieszkam w domu kwalifikującym mnie do dzielnicy 3\n",
    "                    if AGENCI[n,3,t] < P_dolna⁽²⁾ \n",
    "                        # print(\"3.1\")\n",
    "                        #Losujemy jakiś do z dzielnicy 3\n",
    "                        próba = rand(truncated(Pocz_rozk_III; lower=P_dolna⁽³⁾, upper=P_górna⁽³⁾))\n",
    "                        AGENCI[n,1,t+1] = 3\n",
    "                        # Jeżeli móju majątek jest większy niż cena domu, a dom droższy od aktualnego\n",
    "                        # to go kupuje i losujemy lokalizacje\n",
    "                        if próba > AGENCI[n,3,t] && AGENCI[n,2,t] > próba\n",
    "                            AGENCI[n,3,t+1] = próba\n",
    "                            AGENCI[n,4,t+1] = rand(Uniform(0, 1))\n",
    "                            AGENCI[n,5,t+1] = 1 # Zakup zaciągnieciem długu\n",
    "                        else\n",
    "                            AGENCI[n,3,t+1] = AGENCI[n,3,t]\n",
    "                            AGENCI[n,4,t+1] = AGENCI[n,4,t]\n",
    "                            AGENCI[n,5,t+1] = 0 #Brak długu\n",
    "                        end\n",
    "                    #Jeśli mój majątek umożliwia mi przeniesienie się do dzielnicy wyżej\n",
    "                    else\n",
    "                        # print(\"3.2\")\n",
    "                         #Losujemy jakiś do z dzielnicy 2 (ale nie droższy niż najdroższy z 3)\n",
    "                        próba = rand(truncated(Pocz_rozk_III; lower=P_dolna⁽²⁾, upper=P_górna⁽³⁾))\n",
    "                        # Jeżeli móju majątek jest większy niż cena domu, a dom droższy od aktualnego\n",
    "                        # to go kupuje i losujemy lokalizacje\n",
    "                        if próba > AGENCI[n,3,t] && AGENCI[n,2,t] > próba\n",
    "                            AGENCI[n,1,t+1] = 2\n",
    "                            AGENCI[n,3,t+1] = próba\n",
    "                            AGENCI[n,4,t+1] = rand(Uniform(0, 1))\n",
    "                            AGENCI[n,5,t+1] = 1 # Zakup skutkuje długiem\n",
    "                        else\n",
    "                            AGENCI[n,1,t+1] = 3\n",
    "                            AGENCI[n,3,t+1] = AGENCI[n,3,t]\n",
    "                            AGENCI[n,4,t+1] = AGENCI[n,4,t]\n",
    "                            AGENCI[n,5,t+1] = 0 #Brak długu\n",
    "                        end\n",
    "                    end\n",
    "                 # Jeśli mój majątek \"spadł\" lub miałem dług to:\n",
    "                else\n",
    "                    # print(\"3.3\")\n",
    "                    AGENCI[n,1,t+1] = 3\n",
    "                    AGENCI[n,3,t+1] = AGENCI[n,3,t]\n",
    "                    AGENCI[n,4,t+1] = AGENCI[n,4,t]\n",
    "                    # Jak długu nie miałem lub nadszedł czas jego spłaty to dług się zeruje\n",
    "                    if AGENCI[n,5,t] == 0 || AGENCI[n,5,t] == CZAS\n",
    "                        AGENCI[n,5,t+1] = 0\n",
    "                    # W przeciwym wypadku mój dług rośnie\n",
    "                    else\n",
    "                        AGENCI[n,5,t+1] = AGENCI[n,5,t] + 1\n",
    "                    end\n",
    "                end\n",
    "            elseif AGENCI[n,1,t] == 2 \n",
    "                przyrost = rand(Pocz_rozk_II)*P_górna⁽²⁾*przyrost_param\n",
    "                while przyrost > P_górna⁽²⁾\n",
    "                    przyrost = rand(Pocz_rozk_II)*P_górna⁽²⁾*przyrost_param\n",
    "                end\n",
    "                AGENCI[n,2,t] = AGENCI[n,2,t-1] + przyrost\n",
    "                if AGENCI[n,2,t] > AGENCI[n,2,t-1] && AGENCI[n,5,t] == 0\n",
    "                   #Szukamy lepszego miejsca\n",
    "                    #próba = rand(Uniform(AGENCI[n,3,t-1],AGENCI[n,2,t]))\n",
    "                    if AGENCI[n,3,t] < P_dolna⁽²⁾\n",
    "                        # print(\"2.1\")\n",
    "                        próba = rand(truncated(Pocz_rozk_II; lower=P_dolna⁽²⁾, upper=P_górna⁽²⁾))\n",
    "                        AGENCI[n,1,t+1] = 2\n",
    "                        if próba > AGENCI[n,3,t] && AGENCI[n,2,t] > próba\n",
    "                            AGENCI[n,1,t+1] = 2 # to musialem dodać\n",
    "                            AGENCI[n,3,t+1] = próba\n",
    "                            AGENCI[n,4,t+1] = rand(Uniform(0, 1))\n",
    "                            AGENCI[n,5,t+1] = 1\n",
    "                        else\n",
    "                            AGENCI[n,1,t+1] = 2 # to musialem dodać\n",
    "                            AGENCI[n,3,t+1] = AGENCI[n,3,t]\n",
    "                            AGENCI[n,4,t+1] = AGENCI[n,4,t]\n",
    "                            AGENCI[n,5,t+1] = 0\n",
    "                        end\n",
    "                    else\n",
    "                        # print(\"2.2\")\n",
    "                        próba = rand(truncated(Pocz_rozk_II; lower=P_dolna⁽¹⁾, upper=P_górna⁽²⁾))\n",
    "                         if próba > AGENCI[n,3,t] && AGENCI[n,2,t] > próba\n",
    "                            AGENCI[n,1,t+1] = 1\n",
    "                            AGENCI[n,3,t+1] = próba\n",
    "                            AGENCI[n,4,t+1] = rand(Uniform(0, 1))\n",
    "                            AGENCI[n,5,t+1] = 1\n",
    "                        else\n",
    "                            AGENCI[n,1,t+1] = 2\n",
    "                            AGENCI[n,3,t+1] = AGENCI[n,3,t]\n",
    "                            AGENCI[n,4,t+1] = AGENCI[n,4,t]\n",
    "                            AGENCI[n,5,t+1] = 0\n",
    "                        end\n",
    "                    end\n",
    "                else\n",
    "                    # print(\"2.3\")\n",
    "                    AGENCI[n,1,t+1] = 2\n",
    "                    AGENCI[n,3,t+1] = AGENCI[n,3,t]\n",
    "                    AGENCI[n,4,t+1] = AGENCI[n,4,t]\n",
    "                    if AGENCI[n,5,t] == 0 || AGENCI[n,5,t] == CZAS\n",
    "                        AGENCI[n,5,t+1] = 0\n",
    "                    else\n",
    "                        AGENCI[n,5,t+1] = AGENCI[n,5,t] + 1\n",
    "                    end\n",
    "                end\n",
    "            else\n",
    "                przyrost = rand(Pocz_rozk_I)*P_górna⁽¹⁾*przyrost_param\n",
    "                while przyrost > P_górna⁽¹⁾\n",
    "                    przyrost = rand(Pocz_rozk_I)*P_górna⁽¹⁾*przyrost_param\n",
    "                end\n",
    "                AGENCI[n,2,t] = AGENCI[n,2,t-1] + przyrost\n",
    "                if AGENCI[n,2,t] > AGENCI[n,2,t-1]  && AGENCI[n,5,t] == 0\n",
    "                    # print(\"1.1\")\n",
    "                   #Szukamy lepszego miejsca\n",
    "                    #próba = rand(Uniform(AGENCI[n,3,t-1],AGENCI[n,2,t]))\n",
    "                    próba = rand(truncated(Pocz_rozk_I; lower=P_górna⁽²⁾, upper=P_górna⁽¹⁾))\n",
    "                    if AGENCI[n,3,t] < próba && AGENCI[n,2,t] > próba\n",
    "                        # próba = rand(truncated(Pocz_rozk_I; lower=P_górna⁽²⁾, upper=P_górna⁽¹⁾))\n",
    "                        AGENCI[n,1,t+1] = 1\n",
    "                        AGENCI[n,3,t+1] = próba\n",
    "                        AGENCI[n,4,t+1] = rand(Uniform(0, 1))\n",
    "                        AGENCI[n,5,t+1] = 1\n",
    "                    else\n",
    "                        AGENCI[n,1,t+1] = 1\n",
    "                        AGENCI[n,3,t+1] = AGENCI[n,3,t]\n",
    "                        AGENCI[n,4,t+1] = AGENCI[n,4,t]\n",
    "                        AGENCI[n,5,t+1] = 0\n",
    "                    end\n",
    "                else\n",
    "                    # print(\"1.2\")\n",
    "                    AGENCI[n,1,t+1] = 1\n",
    "                    AGENCI[n,3,t+1] = AGENCI[n,3,t]\n",
    "                    AGENCI[n,4,t+1] = AGENCI[n,4,t]\n",
    "                    if AGENCI[n,5,t] == 0 || AGENCI[n,5,t] == CZAS\n",
    "                        AGENCI[n,5,t+1] = 0\n",
    "                    else\n",
    "                        AGENCI[n,5,t+1] = AGENCI[n,5,t] + 1\n",
    "                    end\n",
    "                end\n",
    "            end \n",
    "        end\n",
    "    end\n",
    "end\n"
   ]
  },
  {
   "cell_type": "code",
   "execution_count": null,
   "metadata": {},
   "outputs": [],
   "source": [
    "# using XLSX\n",
    "# XLSX.writetable(\"agent_example3.xlsx\", DataFrame(AGENCI[1,:,:], :auto))\n",
    "\n",
    "rand(truncated(Pocz_rozk_III; lower=P_dolna⁽³⁾, upper=P_górna⁽³⁾))\n",
    "rand(truncated(Pocz_rozk_I; lower=P_górna⁽²⁾, upper=P_górna⁽¹⁾))\n",
    "rand(truncated(Pocz_rozk_II; lower=P_dolna⁽²⁾, upper=P_górna⁽²⁾))\n"
   ]
  },
  {
   "cell_type": "code",
   "execution_count": null,
   "metadata": {},
   "outputs": [],
   "source": [
    "# using XLSX\n",
    "# XLSX.writetable(\"agent_example_5.xlsx\", DataFrame(, :auto))\n",
    "\n",
    "transpose(AGENCI[(AGENCI[:,1,1] .== 3),5,1:4])"
   ]
  },
  {
   "cell_type": "markdown",
   "metadata": {},
   "source": [
    "## Na podstawie array AGENCI:\n",
    "* Wykres udziałów dzielnicy według ludzi w niej zamieszkającej (procent całoście per dzielnica - 3 wykresy)\n",
    "* Wykres udziałów dla wszystkich dzielnic jednocześnie (1)\n",
    "* Wykresy zmian procentów per dzielnica (3 wykresy)\n",
    "\n",
    "to będzie baza do dalszych wykresów, jak zwiększymy ilość agentów to będzie to wykorzystywane do analizy wrażliwości"
   ]
  },
  {
   "cell_type": "code",
   "execution_count": null,
   "metadata": {},
   "outputs": [],
   "source": [
    "\n",
    "using DataFrames\n",
    "dzielnice_counts_df = DataFrame()\n",
    "\n",
    "for t in 1:T\n",
    "    to_count = string.(AGENCI[:,1:1,t])\n",
    "    counts = countmap(to_count)\n",
    "    # print(t)\n",
    "    for key in [\"1.0\", \"2.0\", \"3.0\"]\n",
    "        if !(key in keys(counts))\n",
    "            counts[key] = 0\n",
    "        end \n",
    "    end\n",
    "    if t == 1\n",
    "        dzielnice_counts_df = DataFrame(counts)\n",
    "    else\n",
    "        tmp_df = DataFrame(copy(counts))\n",
    "        dzielnice_counts_df = vcat(dzielnice_counts_df,tmp_df)\n",
    "    end\n",
    "end\n",
    "\n",
    "# dzielnice_counts_df[!,:RowSum] = [sum(row) for row in eachrow(dzielnice_counts_df)];\n",
    "\n",
    "rename!(dzielnice_counts_df, Dict(:1 => :district_1));\n",
    "rename!(dzielnice_counts_df, Dict(:2 => :district_2));\n",
    "rename!(dzielnice_counts_df, Dict(:3 => :district_3));"
   ]
  },
  {
   "cell_type": "code",
   "execution_count": null,
   "metadata": {},
   "outputs": [],
   "source": [
    "dzielnice_counts_df[:,[\"district_1\",\"district_2\",\"district_3\"]]"
   ]
  },
  {
   "cell_type": "code",
   "execution_count": null,
   "metadata": {},
   "outputs": [],
   "source": [
    "\n",
    "plot(dzielnice_counts_df.\"district_1\")\n",
    "plot!(dzielnice_counts_df.\"district_2\")\n",
    "plot!(dzielnice_counts_df.\"district_3\")\n",
    "# AGENCI[(AGENCI[:,1,3] .== 0.0),:,1:10][1,:,:]"
   ]
  },
  {
   "cell_type": "code",
   "execution_count": null,
   "metadata": {},
   "outputs": [],
   "source": [
    "\n",
    "# Apply the function to add a new column with log returns\n",
    "\n",
    "function percent_change!(df::DataFrame, column::String)\n",
    "    df[!, Symbol(string(column, \"_pct\"))] = [missing; diff(df[!, column])./ df[1:end-1, column]]\n",
    "end\n",
    "\n",
    "# function add_log_returns!(df::DataFrame, column::String)\n",
    "#     df[!, Symbol(string(column, \"_logpct\"))] = [missing; diff(log.(df[!, column]))]\n",
    "# end\n",
    "\n",
    "\n",
    "# Apply the function to add a new column with percent change and log returns\n",
    "for col in names(dzielnice_counts_df)\n",
    "    percent_change!(dzielnice_counts_df, col)\n",
    "    # add_log_returns!(dzielnice_counts_df, col)\n",
    "end\n",
    "\n"
   ]
  },
  {
   "cell_type": "code",
   "execution_count": null,
   "metadata": {},
   "outputs": [],
   "source": [
    "plot(dzielnice_counts_df.\"district_1_pct\")"
   ]
  },
  {
   "cell_type": "code",
   "execution_count": null,
   "metadata": {},
   "outputs": [],
   "source": [
    "plot(dzielnice_counts_df.\"district_2_pct\")"
   ]
  },
  {
   "cell_type": "code",
   "execution_count": null,
   "metadata": {},
   "outputs": [],
   "source": [
    "plot(dzielnice_counts_df.\"district_3_pct\")"
   ]
  },
  {
   "cell_type": "code",
   "execution_count": null,
   "metadata": {},
   "outputs": [],
   "source": [
    "# plot(dzielnice_counts_df.\"district_1_logpct\")\n",
    "# plot!(dzielnice_counts_df.\"district_2_logpct\")\n",
    "# plot!(dzielnice_counts_df.\"district_3_logpct\")"
   ]
  },
  {
   "cell_type": "code",
   "execution_count": null,
   "metadata": {},
   "outputs": [],
   "source": [
    "#nie ogarniam twojej funkcji do liczenia procentow wiec napisałam swoją\n",
    "\n",
    "# Funkcja do obliczania procentowych udziałów\n",
    "function calculate_percentages(df)\n",
    "    for col in names(df)\n",
    "        if occursin(\"_pct\", string(col))\n",
    "            continue\n",
    "        end\n",
    "        total = sum(df[!, col])\n",
    "        df[!, Symbol(string(col, \"_pct\"))] .= df[!, col] ./ total * 100\n",
    "    end\n",
    "    return df\n",
    "end\n",
    "\n",
    "# Funkcja do obliczania zmian procentowych\n",
    "function calculate_percentage_changes(df)\n",
    "    for col in names(df)\n",
    "        if occursin(\"_pct\", string(col))\n",
    "            percent_change!(df, col)\n",
    "        end\n",
    "    end\n",
    "    return df\n",
    "end\n"
   ]
  },
  {
   "cell_type": "code",
   "execution_count": null,
   "metadata": {},
   "outputs": [],
   "source": [
    "\n",
    "# Obliczanie procentowych udziałów\n",
    "dzielnice_counts_df = calculate_percentages(dzielnice_counts_df)\n",
    "\n",
    "# Obliczanie zmian procentowych\n",
    "calculate_percentage_changes(dzielnice_counts_df)\n"
   ]
  },
  {
   "cell_type": "code",
   "execution_count": null,
   "metadata": {},
   "outputs": [],
   "source": [
    "# Wykresy udziałów dzielnicy według ludzi w niej zamieszkającej\n",
    "district_1_plot = plot(dzielnice_counts_df[!,:district_1_pct], xlabel=\"Okres\", ylabel=\"Procentowa liczba ludzi\", label=\"Dzielnica 1\", linewidth=2)\n",
    "district_2_plot = plot(dzielnice_counts_df[!,:district_2_pct], xlabel=\"Okres\", ylabel=\"Procentowa liczba ludzi\", label=\"Dzielnica 2\", linewidth=2)\n",
    "district_3_plot = plot(dzielnice_counts_df[!,:district_3_pct], xlabel=\"Okres\", ylabel=\"Procentowa liczba ludzi\", label=\"Dzielnica 3\", linewidth=2)\n",
    "\n",
    "display(district_1_plot)\n",
    "display(district_2_plot)\n",
    "display(district_3_plot)\n",
    "\n",
    "\n",
    "#cos nie wyglada dobrze dla 2 dzielnicy"
   ]
  },
  {
   "cell_type": "code",
   "execution_count": null,
   "metadata": {},
   "outputs": [],
   "source": [
    "# Wykres udziałów dla wszystkich dzielnic jednocześnie\n",
    "all_districts_plot = plot(dzielnice_counts_df[!,:district_1_pct], label=\"Dzielnica 1\", linewidth=2)\n",
    "plot!(dzielnice_counts_df[!,:district_2_pct], label=\"Dzielnica 2\", linewidth=2)\n",
    "plot!(dzielnice_counts_df[!,:district_3_pct], label=\"Dzielnica 3\", linewidth=2)\n",
    "xlabel!(\"Okres\")\n",
    "ylabel!(\"Procentowa liczba ludzi\")\n",
    "\n",
    "display(all_districts_plot)"
   ]
  },
  {
   "cell_type": "code",
   "execution_count": null,
   "metadata": {},
   "outputs": [],
   "source": [
    "# Wykresy zmian procentowych per dzielnica\n",
    "district_1_change_plot = plot(dzielnice_counts_df[!,:district_1_pct_pct], xlabel=\"Okres\", ylabel=\"Zmiana procentowa\", label=\"Dzielnica 1\", linewidth=2)\n",
    "district_2_change_plot = plot(dzielnice_counts_df[!,:district_2_pct_pct], xlabel=\"Okres\", ylabel=\"Zmiana procentowa\", label=\"Dzielnica 2\", linewidth=2)\n",
    "district_3_change_plot = plot(dzielnice_counts_df[!,:district_3_pct_pct], xlabel=\"Okres\", ylabel=\"Zmiana procentowa\", label=\"Dzielnica 3\", linewidth=2)\n",
    "\n",
    "display(district_1_change_plot)\n",
    "display(district_2_change_plot)\n",
    "display(district_3_change_plot)"
   ]
  },
  {
   "cell_type": "markdown",
   "metadata": {},
   "source": [
    "## Skumulowany dług"
   ]
  },
  {
   "cell_type": "code",
   "execution_count": null,
   "metadata": {},
   "outputs": [],
   "source": [
    "#WTFy xD - bedzie trzeba to zbadać\n",
    "CZAS_SUMS = sum(AGENCI[:,5,:], dims = 1);\n",
    "dlug_df = DataFrame(transpose(CZAS_SUMS), :auto)\n",
    "plot(dlug_df.x1)\n",
    "\n",
    "## Wielka spłata długu"
   ]
  },
  {
   "cell_type": "markdown",
   "metadata": {},
   "source": [
    "## Analiza wrażliwości"
   ]
  },
  {
   "cell_type": "markdown",
   "metadata": {},
   "source": [
    "### Wstęp - funkcja"
   ]
  },
  {
   "cell_type": "code",
   "execution_count": null,
   "metadata": {},
   "outputs": [],
   "source": [
    "include(\"xd.jl\")\n",
    "T = 12 * 40"
   ]
  },
  {
   "cell_type": "code",
   "execution_count": null,
   "metadata": {},
   "outputs": [],
   "source": [
    "# Perform one simulation\n",
    "AGENCI = schelling_sym();"
   ]
  },
  {
   "cell_type": "code",
   "execution_count": null,
   "metadata": {},
   "outputs": [],
   "source": [
    "## Calc counts\n",
    "dzielnice_counts_df = calc_counts(AGENCI)"
   ]
  },
  {
   "cell_type": "code",
   "execution_count": null,
   "metadata": {},
   "outputs": [],
   "source": []
  },
  {
   "cell_type": "code",
   "execution_count": null,
   "metadata": {},
   "outputs": [],
   "source": [
    "plot(dzielnice_counts_df.\"district_1\")\n",
    "plot!(dzielnice_counts_df.\"district_2\")\n",
    "plot!(dzielnice_counts_df.\"district_3\")"
   ]
  },
  {
   "cell_type": "markdown",
   "metadata": {},
   "source": [
    "## Siatka parametrów"
   ]
  },
  {
   "cell_type": "code",
   "execution_count": null,
   "metadata": {},
   "outputs": [],
   "source": [
    "# Initialize an empty dictionary\n",
    "dict_params = Dict()\n",
    "\n",
    "id = 1\n",
    "len = length(range(0.4, 4.2, step=0.2))\n",
    "for i in range(0.4, 4.2, step=0.2)\n",
    "    # Create a tuple with parameters\n",
    "    param_tuple = (\n",
    "        α₁ = 1.0 * i,\n",
    "        θ₁ = 0.1,\n",
    "        α₂ = 2.0 * i,\n",
    "        θ₂ = 0.1,\n",
    "        α₃ = 5.0 * i,\n",
    "        θ₃ = 0.1\n",
    "    )\n",
    "    # Add the tuple as a key with an empty array as its value\n",
    "    dict_params[id] = param_tuple\n",
    "    id +=1\n",
    "end\n",
    "\n",
    "df_params = DataFrame([value for (key, value) in dict_params])\n"
   ]
  },
  {
   "cell_type": "markdown",
   "metadata": {},
   "source": [
    "Warning performing SA!"
   ]
  },
  {
   "cell_type": "markdown",
   "metadata": {},
   "source": [
    "### Zapisywanie wyników"
   ]
  },
  {
   "cell_type": "code",
   "execution_count": null,
   "metadata": {},
   "outputs": [],
   "source": [
    "dict_sa = Dict()\n",
    "\n",
    "for (key, params) in dict_params\n",
    "    dict_sa[key] = schelling_sym(\n",
    "        0.25,                # N_param\n",
    "        1/1000,              # bounds_param\n",
    "        params.α₁,           # param1\n",
    "        params.θ₁,           # param2\n",
    "        params.α₂,           # param3\n",
    "        params.θ₂,           # param4\n",
    "        params.α₃,           # param5\n",
    "        params.θ₃,           # param6\n",
    "        12 * 40,             # T\n",
    "        0.1                  # przyrost_param\n",
    "    )\n",
    "    println(params.α₁)\n",
    "     # Explicitly clear memory if possible\n",
    "     GC.gc()  # Trigger garbage collection to free up memory\n",
    "end"
   ]
  },
  {
   "cell_type": "code",
   "execution_count": null,
   "metadata": {},
   "outputs": [],
   "source": [
    "# using JLD2\n",
    "# @save \"workspace.jld2\" dict_sa\n",
    "# @load \"workspace.jld2\""
   ]
  },
  {
   "cell_type": "markdown",
   "metadata": {},
   "source": [
    "## Analiza wrażliwości wykres"
   ]
  },
  {
   "cell_type": "code",
   "execution_count": null,
   "metadata": {},
   "outputs": [],
   "source": [
    "counts_dict = Dict()\n",
    "\n",
    "for (id, value) in dict_sa\n",
    "    counts_dict[id] = calc_counts(value)\n",
    "end"
   ]
  },
  {
   "cell_type": "code",
   "execution_count": null,
   "metadata": {},
   "outputs": [],
   "source": [
    "using Plots\n",
    "\n",
    "num_colors = len\n",
    "colors = [RGB(i/(num_colors-1), 0.0, 1.0 - i/(num_colors-1)) for i in 0:num_colors-1]\n",
    "\n",
    "# colors = {key => colors for key in range(0.5, 2, step=0.1)}\n",
    "\n",
    "p = plot(legend = false)\n",
    "\n",
    "ii =1 \n",
    "for (key, value) in counts_dict\n",
    "    plot!(value.district_1, label=\"District 1\", color=colors[key])\n",
    "    ii +=1\n",
    "end\n",
    "\n",
    "display(p)"
   ]
  },
  {
   "cell_type": "code",
   "execution_count": null,
   "metadata": {},
   "outputs": [],
   "source": [
    "p = plot(legend = false)\n",
    "\n",
    "ii =1 \n",
    "for (key, value) in counts_dict\n",
    "    plot!(value.district_2, label=\"District 2\", color=colors[key])\n",
    "    ii +=1\n",
    "end\n",
    "\n",
    "display(p)"
   ]
  },
  {
   "cell_type": "code",
   "execution_count": null,
   "metadata": {},
   "outputs": [],
   "source": [
    "p = plot(legend = false)\n",
    "\n",
    "ii =1 \n",
    "for (key, value) in counts_dict\n",
    "    plot!(value.district_3, label=\"District 3\", color=colors[key])\n",
    "    ii +=1\n",
    "end\n",
    "\n",
    "display(p)"
   ]
  }
 ],
 "metadata": {
  "kernelspec": {
   "display_name": "Julia 1.10.2",
   "language": "julia",
   "name": "julia-1.10"
  },
  "language_info": {
   "file_extension": ".jl",
   "mimetype": "application/julia",
   "name": "julia",
   "version": "1.10.2"
  }
 },
 "nbformat": 4,
 "nbformat_minor": 2
}
