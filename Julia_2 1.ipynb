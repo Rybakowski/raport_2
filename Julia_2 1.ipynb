{
 "cells": [
  {
   "cell_type": "code",
   "execution_count": 6,
   "id": "e9adeeb7",
   "metadata": {},
   "outputs": [],
   "source": [
    "using LinearAlgebra, Statistics, Distributions, Plots\n",
    "\n",
    "# Liczba agentów rodzaju I\n",
    "Nᴵ = 5000\n",
    "# Liczba agentów rodzaju II\n",
    "Nᴵᴵ = 25000\n",
    "# Liczba agentów rodzaju III\n",
    "Nᴵᴵᴵ = 50000\n",
    "# Suma 80000 (8*10^4)\n",
    "\n",
    "# Ceny\n",
    "P_górna⁽¹⁾ = 35000\n",
    "P_górna⁽²⁾ = 25000\n",
    "P_dolna⁽¹⁾ = 23000\n",
    "P_górna⁽³⁾ = 19000\n",
    "P_dolna⁽²⁾ = 18000\n",
    "P_dolna⁽³⁾ = 8000\n",
    "\n",
    "T = 12 * 20  # 12 miesięcy - rok, 20 lat\n",
    "CZAS = 15 * 12  # Piętnastoletnie ,,pożyczki\"\n",
    "\n",
    "# Początkowe rozmieszczenie - przestrzenie trzech dzielnic: ciągłe\n",
    "α₁ = 1\n",
    "θ₁ = 0.1\n",
    "α₂ = 2\n",
    "θ₂ = 0.1\n",
    "α₃ = 5\n",
    "θ₃ = 0.1\n",
    "\n",
    "Pocz_rozk_I = Pareto(α₁, θ₁);\n",
    "Pocz_rozk_II = Pareto(α₂, θ₂);\n",
    "Pocz_rozk_III = Pareto(α₃, θ₃);\n",
    "\n",
    "AGENCI = zeros(Nᴵ + Nᴵᴵ + Nᴵᴵᴵ, 5, T);"
   ]
  },
  {
   "cell_type": "code",
   "execution_count": 7,
   "id": "c8d7ea6b",
   "metadata": {},
   "outputs": [
    {
     "data": {
      "text/plain": [
       "symulacja (generic function with 1 method)"
      ]
     },
     "metadata": {},
     "output_type": "display_data"
    }
   ],
   "source": [
    "\n",
    "# Utwórz pętlę do symulacji\n",
    "function symulacja(liczba_iteracji)\n",
    "    wyniki = zeros(3, T, liczba_iteracji)\n",
    "\n",
    "    for iteracja in 1:liczba_iteracji\n",
    "        # Inicjalizacja początkowego rozmieszczenia agentów\n",
    "        for n in 1:Nᴵ\n",
    "            AGENCI[n, 2, 1] = rand(Pocz_rozk_I)\n",
    "            AGENCI[n, 1, 1] = 1\n",
    "            AGENCI[n, 3, 1] = AGENCI[n, 2, 1] \n",
    "            AGENCI[n, 4, 1] = rand(Uniform(0, 1))\n",
    "        end\n",
    "\n",
    "        for n in Nᴵ+1:Nᴵᴵ\n",
    "            AGENCI[n, 2, 1] = rand(Pocz_rozk_II)\n",
    "            AGENCI[n, 1, 1] = 2\n",
    "            AGENCI[n, 3, 1] = AGENCI[n, 2, 1] \n",
    "            AGENCI[n, 4, 1] = rand(Uniform(0, 1))\n",
    "        end\n",
    "\n",
    "        for n in Nᴵᴵ+1:Nᴵᴵᴵ\n",
    "            AGENCI[n, 2, 1] = rand(Pocz_rozk_III)\n",
    "            AGENCI[n, 1, 1] = 2\n",
    "            AGENCI[n, 3, 1] = AGENCI[n, 2, 1] \n",
    "            AGENCI[n, 4, 1] = rand(Uniform(0, 1))\n",
    "        end\n",
    "\n",
    "       \n",
    "        for t in 1:T\n",
    "            # Liczba mieszkańców poszczególnych dzielnic w danym okresie\n",
    "            wyniki[1, t, iteracja] = count(AGENCI[:, 1, t] .== 1)\n",
    "            wyniki[2, t, iteracja] = count(AGENCI[:, 1, t] .== 2)\n",
    "            wyniki[3, t, iteracja] = count(AGENCI[:, 1, t] .== 3)\n",
    "\n",
    "            # Zmiana netto liczby mieszkańców danej dzielnicy w danym okresie - w wartościach procentowych\n",
    "            if t > 1\n",
    "                for dzielnica in 1:3\n",
    "                    zmiana = wyniki[dzielnica, t, iteracja] - wyniki[dzielnica, t-1, iteracja]\n",
    "                    zmiana_procentowa = (zmiana / wyniki[dzielnica, t-1, iteracja]) * 100\n",
    "                    wyniki[dzielnica, t, iteracja] = zmiana_procentowa\n",
    "                end\n",
    "            end\n",
    "        end\n",
    "    end\n",
    "    return wyniki\n",
    "end\n",
    "\n"
   ]
  },
  {
   "cell_type": "code",
   "execution_count": 8,
   "id": "0808f653",
   "metadata": {},
   "outputs": [],
   "source": [
    "liczba_iteracji = 100\n",
    "wyniki_symulacji = symulacja(liczba_iteracji)\n",
    "\n",
    "# Tworzenie rysunków\n",
    "function rysuj_statystyki(wyniki)\n",
    "    for dzielnica in 1:3\n",
    "        nazwa_dzielnicy = \"Dzielnica $dzielnica\"\n",
    "        # Tworzenie wykresu średniej liczby mieszkańców w poszczególnych okresach\n",
    "        # z zakresem niepewności\n",
    "        plot(mean(wyniki[dzielnica, :, :], dims=3), ribbon=std(wyniki[dzielnica, :, :], dims=3),\n",
    "             xlabel=\"Okres\", ylabel=\"Średnia liczba mieszkańców\", title=nazwa_dzielnicy,\n",
    "             label=\"\", fillalpha=0.3)\n",
    "    end\n",
    "end\n",
    "\n",
    "rysuj_statystyki(wyniki_symulacji)"
   ]
  }
 ],
 "metadata": {
  "kernelspec": {
   "display_name": "Julia 1.10.2",
   "language": "julia",
   "name": "julia-1.10"
  },
  "language_info": {
   "file_extension": ".jl",
   "mimetype": "application/julia",
   "name": "julia",
   "version": "1.10.2"
  }
 },
 "nbformat": 4,
 "nbformat_minor": 5
}
